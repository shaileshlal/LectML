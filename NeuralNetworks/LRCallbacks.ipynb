{
 "cells": [
  {
   "cell_type": "markdown",
   "metadata": {},
   "source": [
    "# Workbook for Callbacks\n",
    "\n",
    "Workbook for all the callbacks we write for Learning Rate Scheduling"
   ]
  },
  {
   "cell_type": "code",
   "execution_count": 1,
   "metadata": {},
   "outputs": [
    {
     "name": "stdout",
     "output_type": "stream",
     "text": [
      "2.2.0\n"
     ]
    }
   ],
   "source": [
    "import numpy as np\n",
    "import matplotlib.pyplot as plt\n",
    "\n",
    "import pandas as pd\n",
    "import tensorflow as tf\n",
    "\n",
    "from tensorflow.keras.layers import Input, Flatten\n",
    "from tensorflow.keras.layers import Dense, BatchNormalization\n",
    "from tensorflow.keras.datasets import fashion_mnist\n",
    "from tensorflow.keras.models import Model, load_model\n",
    "\n",
    "from tensorflow.keras.callbacks import ModelCheckpoint, LearningRateScheduler\n",
    "\n",
    "import os\n",
    "#import seaborn as sns\n",
    "plt.style.use('ggplot')\n",
    "\n",
    "print(tf. __version__) \n",
    "\n",
    "# suppress tensorflow warnings and error messages\n",
    "os.environ['TF_CPP_MIN_LOG_LEVEL'] = '3'"
   ]
  },
  {
   "cell_type": "code",
   "execution_count": 2,
   "metadata": {},
   "outputs": [],
   "source": [
    "# params\n",
    "n_layers = 2\n",
    "n_neurons = 100"
   ]
  },
  {
   "cell_type": "code",
   "execution_count": 3,
   "metadata": {},
   "outputs": [
    {
     "name": "stdout",
     "output_type": "stream",
     "text": [
      "loaded fashion mnist data\n",
      "train_shape: ((60000, 28, 28), (60000,))\n",
      "test shape: ((10000, 28, 28), (10000,))\n",
      "(28, 28) images in 10 classes\n"
     ]
    }
   ],
   "source": [
    "(x_train,y_train),(x_test,y_test) = fashion_mnist.load_data()\n",
    "\n",
    "print('loaded fashion mnist data')\n",
    "\n",
    "print(f'train_shape: {x_train.shape, y_train.shape}')\n",
    "print(f'test shape: {x_test.shape, y_test.shape}')\n",
    "\n",
    "img_shape = x_train[0].shape\n",
    "n_classes = len(np.unique(y_train))\n",
    "\n",
    "print(f'{img_shape} images in {n_classes} classes')"
   ]
  },
  {
   "cell_type": "code",
   "execution_count": 4,
   "metadata": {},
   "outputs": [
    {
     "name": "stdout",
     "output_type": "stream",
     "text": [
      "train_shape: ((50000, 28, 28), (50000,))\n",
      "val shape: ((10000, 28, 28), (10000,))\n"
     ]
    }
   ],
   "source": [
    "x_train = x_train.astype('float32')/255.\n",
    "x_test = x_test.astype('float32')/255.\n",
    "x_val, y_val = x_train[:10000],y_train[:10000]\n",
    "x_train, y_train = x_train[10000:],y_train[10000:]\n",
    "\n",
    "print(f'train_shape: {x_train.shape, y_train.shape}')\n",
    "print(f'val shape: {x_val.shape, y_val.shape}')"
   ]
  },
  {
   "cell_type": "code",
   "execution_count": 5,
   "metadata": {},
   "outputs": [],
   "source": [
    "def dnn_layer(x,n_neurons,activation,initializer,batch_norm=False):\n",
    "    x = Dense(n_neurons,activation=activation,kernel_initializer=initializer)(x)\n",
    "    if batch_norm:\n",
    "        x = BatchNormalization()(x)\n",
    "    return x\n",
    "\n",
    "def build_dnn(data_shape,n_classes,n_neurons,n_layers,\n",
    "              activations,initializer,batch_norm=False):\n",
    "    inputs = Input(data_shape)\n",
    "    x = Flatten(input_shape=data_shape)(inputs)\n",
    "    for _ in range(n_layers):\n",
    "        x = dnn_layer(x,n_neurons,activation,initializer,batch_norm)\n",
    "    outputs = Dense(n_classes,activation='softmax')(x)\n",
    "    dnn = Model(inputs,outputs)\n",
    "    return dnn"
   ]
  },
  {
   "cell_type": "code",
   "execution_count": 6,
   "metadata": {},
   "outputs": [],
   "source": [
    "activation = 'elu'\n",
    "initializer = 'he_normal'"
   ]
  },
  {
   "cell_type": "code",
   "execution_count": 7,
   "metadata": {},
   "outputs": [],
   "source": [
    "K = tf.keras.backend\n",
    "\n",
    "class UpdateLrMB(tf.keras.callbacks.Callback):\n",
    "    def __init__(self,factor,beta=0.98,tolerance = 4,plot_automatic=True,plot_unsmoothed=True):\n",
    "        self.factor = factor # factor to multiply LR with after every minibatch\n",
    "        self.beta = beta # \n",
    "        self.learning_rate = [] # record lr at every minibatch\n",
    "        self.loss = [] # loss recorded by TF at end of minibatch. for TF >= 2.2, this is a running average from the beginning of the epoch \n",
    "        self.avg_loss = [] # exponentially weighted average of loss\n",
    "        self.min_loss = np.Inf\n",
    "        self.current_avg_loss = 0 # at the beginning of training\n",
    "        self.tolerance = tolerance # the loss can increase to up to tolerance*min_loss\n",
    "        self.plot_automatic = plot_automatic\n",
    "        self.plot_unsmoothed = plot_unsmoothed\n",
    "        self.iteration = 0\n",
    "    \n",
    "    def on_train_begin(self,epoch):\n",
    "        self.current_avg_loss = 0\n",
    "        self.iteration = 0\n",
    "    \n",
    "    def on_batch_end(self,batch,logs): # at the end of first batch, batch=0\n",
    "        self.iteration += 1\n",
    "        current_lr = K.get_value(self.model.optimizer.learning_rate)\n",
    "        current_loss = logs['loss']\n",
    "        self.current_avg_loss = (self.beta*self.current_avg_loss+(1-self.beta)*current_loss)\n",
    "        smooth_avg_loss = self.current_avg_loss/(1-self.beta**(self.iteration+1))\n",
    "        self.min_loss = min(self.min_loss,smooth_avg_loss)\n",
    "        self.learning_rate.append(current_lr)\n",
    "        self.loss.append(current_loss)\n",
    "        self.avg_loss.append(smooth_avg_loss)\n",
    "        K.set_value(self.model.optimizer.learning_rate,current_lr*self.factor)\n",
    "        if current_loss >= (self.tolerance * self.min_loss): # stop scanning if exponentially weighted average grows too high\n",
    "            self.model.stop_training = True\n",
    "            return\n",
    "    \n",
    "    def on_train_end(self,epoch):\n",
    "        if self.plot_automatic:\n",
    "            self.plot_lr_vs_loss()\n",
    "    \n",
    "    def plot_lr_vs_loss(self,clipstart=10,clipend=1):\n",
    "        clip = lambda x : x[clipstart:-clipend]\n",
    "        lr = clip(self.learning_rate)\n",
    "        avg_loss = clip(self.avg_loss)\n",
    "        loss = clip(self.loss)\n",
    "        plt.plot(lr,avg_loss,label='exponentially weighted loss')\n",
    "        if self.plot_unsmoothed:\n",
    "            plt.plot(lr,loss,alpha=0.4,label='unsmoothed')\n",
    "        plt.gca().set_xscale('log')\n",
    "        minrate = min(self.learning_rate)\n",
    "        maxrate = max(self.learning_rate)\n",
    "        minloss = min(self.loss)\n",
    "        maxloss = self.loss[0]+0.5\n",
    "        plt.axis([minrate,maxrate,minloss,maxloss])\n",
    "        plt.xlabel(\"Learning rate\")\n",
    "        plt.ylabel(\"Loss\")\n",
    "        plt.legend(loc='best')\n",
    "        plt.show()\n",
    "        \n",
    "def scan_learning_rate(model,X,y,epochs=1,batch_size=32,minrate=1e-10,maxrate=1):\n",
    "    model_weights = model.get_weights() # save weights before the learning rate scan\n",
    "    iterations = np.ceil(len(X)/batch_size)*epochs\n",
    "    lr_factor = np.exp(np.log(maxrate/minrate)/iterations)\n",
    "    K.set_value(model.optimizer.learning_rate,minrate)\n",
    "    lr_update = UpdateLrMB(lr_factor)\n",
    "    model.fit(X,y,epochs=epochs,batch_size=batch_size,callbacks=[lr_update])\n",
    "    model.set_weights(model_weights) # restore weights\n",
    "    return lr_update"
   ]
  },
  {
   "cell_type": "code",
   "execution_count": 8,
   "metadata": {
    "tags": []
   },
   "outputs": [
    {
     "name": "stdout",
     "output_type": "stream",
     "text": [
      "model compiled\n",
      "Epoch 1/2\n",
      "1563/1563 [==============================] - 3s 2ms/step - loss: 2.4768\n",
      "Epoch 2/2\n",
      "1563/1563 [==============================] - 3s 2ms/step - loss: 222.7836\n"
     ]
    },
    {
     "data": {
      "image/png": "[encoded data removed]",
      "text/plain": [
       "<Figure size 432x288 with 1 Axes>"
      ]
     },
     "metadata": {},
     "output_type": "display_data"
    }
   ],
   "source": [
    "optimizer = tf.keras.optimizers.Nadam()\n",
    "model = build_dnn(img_shape,n_classes, n_neurons, \n",
    "                  n_layers, activation, initializer,\n",
    "                  batch_norm=False)\n",
    "\n",
    "model.compile(loss='sparse_categorical_crossentropy',optimizer=optimizer)\n",
    "print('model compiled')\n",
    "\n",
    "lr_logs= scan_learning_rate(model,x_train,y_train,epochs=2)"
   ]
  },
  {
   "cell_type": "code",
   "execution_count": 9,
   "metadata": {},
   "outputs": [],
   "source": [
    "class OneCycle(tf.keras.callbacks.Callback):\n",
    "    def __init__(self,n_train,batch_size,n_epochs,lr_max,lr_start=None,lr_end=None):\n",
    "        self.n_train = n_train\n",
    "        self.batch_size = batch_size\n",
    "        self.n_epochs = n_epochs\n",
    "        self.lr_max = lr_max \n",
    "        self.lr_start = lr_start or lr_max/10\n",
    "        self.lr_end = lr_end or lr_max/1000\n",
    "        self.num_iter = np.ceil(n_train/batch_size) *n_epochs #total number of iterations\n",
    "        self.last_iterations = self.num_iter//10 +1 #about last 10 percent of the training iterations\n",
    "        self.iter_cycle = self.num_iter-self.last_iterations\n",
    "        self.iter_midpt = self.iter_cycle//2\n",
    "        self.iteration = 0\n",
    "        self.current_lr = self.lr_start\n",
    "        self.lr_record = []\n",
    "    \n",
    "    def on_batch_begin(self,epoch,logs):\n",
    "        lr = self._learning_rate(self.iteration)\n",
    "        self.iteration += 1\n",
    "        self.current_lr = lr\n",
    "        self.lr_record.append(lr)\n",
    "        K.set_value(self.model.optimizer.learning_rate,lr)\n",
    "        \n",
    "    def on_epoch_begin(self,epoch,logs):\n",
    "        print('learning rate approximately: {:.1e}'.format(self.current_lr))\n",
    "        \n",
    "    def _linear_learning_rate(self,x,\n",
    "                              startx,stopx,\n",
    "                              starty,stopy):\n",
    "        return ((stopy-starty)*(x-startx)/(stopx-startx))+starty\n",
    "    \n",
    "    def _learning_rate(self,iteration):\n",
    "        if iteration < self.iter_midpt:\n",
    "            lr = self._linear_learning_rate(iteration,\n",
    "                                            0,self.iter_midpt,\n",
    "                                            self.lr_start,self.lr_max)\n",
    "        elif iteration < self.iter_cycle:\n",
    "            lr = self._linear_learning_rate(iteration,\n",
    "                                            self.iter_midpt,self.iter_cycle,\n",
    "                                            self.lr_max,self.lr_start)\n",
    "        else:\n",
    "            lr = self._linear_learning_rate(iteration,\n",
    "                                            self.iter_cycle,self.num_iter,\n",
    "                                            self.lr_start,self.lr_end)\n",
    "        return lr\n",
    "    \n",
    "    def get_lr_record(self):\n",
    "        return self.lr_record"
   ]
  },
  {
   "cell_type": "code",
   "execution_count": 10,
   "metadata": {},
   "outputs": [
    {
     "name": "stdout",
     "output_type": "stream",
     "text": [
      "model compiled\n"
     ]
    }
   ],
   "source": [
    "lr_optimal = 1e-3\n",
    "lr_start = lr_optimal/10\n",
    "\n",
    "optimizer = tf.keras.optimizers.Nadam(learning_rate=lr_optimal)\n",
    "model = build_dnn(img_shape,n_classes, n_neurons, \n",
    "                  n_layers, activation, initializer,\n",
    "                  batch_norm=False)\n",
    "\n",
    "model.compile(loss='sparse_categorical_crossentropy',\n",
    "              optimizer=optimizer,metrics=['accuracy'])\n",
    "print('model compiled')"
   ]
  },
  {
   "cell_type": "code",
   "execution_count": 11,
   "metadata": {},
   "outputs": [],
   "source": [
    "#TODO : because we pass n_train into the LR scheduler we can't use validation_split in model.fit() \n",
    "#and have to explicitly give validation data separately. Fix this.\n",
    "\n",
    "n_train = len(x_train) \n",
    "n_epochs = 20\n",
    "batch_size = 32\n",
    "\n",
    "lr_scheduler = OneCycle(n_train,\n",
    "                        batch_size=batch_size,\n",
    "                        n_epochs=n_epochs,\n",
    "                        lr_max=lr_optimal,lr_end=1e-6)\n",
    "\n",
    "callbacks = [lr_scheduler]"
   ]
  },
  {
   "cell_type": "code",
   "execution_count": 13,
   "metadata": {},
   "outputs": [
    {
     "name": "stdout",
     "output_type": "stream",
     "text": [
      "learning rate approximately: 1.0e-04\n",
      "Epoch 1/20\n",
      "1563/1563 [==============================] - 3s 2ms/step - loss: 0.6483 - accuracy: 0.7799 - val_loss: 0.4811 - val_accuracy: 0.8250\n",
      "learning rate approximately: 2.0e-04\n",
      "Epoch 2/20\n",
      "1563/1563 [==============================] - 3s 2ms/step - loss: 0.4309 - accuracy: 0.8483 - val_loss: 0.4072 - val_accuracy: 0.8520\n",
      "learning rate approximately: 3.0e-04\n",
      "Epoch 3/20\n",
      "1563/1563 [==============================] - 3s 2ms/step - loss: 0.3870 - accuracy: 0.8607 - val_loss: 0.3752 - val_accuracy: 0.8663\n",
      "learning rate approximately: 4.0e-04\n",
      "Epoch 4/20\n",
      "1563/1563 [==============================] - 3s 2ms/step - loss: 0.3594 - accuracy: 0.8703 - val_loss: 0.3691 - val_accuracy: 0.8674\n",
      "learning rate approximately: 5.0e-04\n",
      "Epoch 5/20\n",
      "1563/1563 [==============================] - 3s 2ms/step - loss: 0.3384 - accuracy: 0.8761 - val_loss: 0.3516 - val_accuracy: 0.8701\n",
      "learning rate approximately: 6.0e-04\n",
      "Epoch 6/20\n",
      "1563/1563 [==============================] - 3s 2ms/step - loss: 0.3213 - accuracy: 0.8816 - val_loss: 0.3394 - val_accuracy: 0.8753\n",
      "learning rate approximately: 7.0e-04\n",
      "Epoch 7/20\n",
      "1563/1563 [==============================] - 3s 2ms/step - loss: 0.3067 - accuracy: 0.8869 - val_loss: 0.3286 - val_accuracy: 0.8796\n",
      "learning rate approximately: 8.0e-04\n",
      "Epoch 8/20\n",
      "1563/1563 [==============================] - 3s 2ms/step - loss: 0.2949 - accuracy: 0.8916 - val_loss: 0.3378 - val_accuracy: 0.8760\n",
      "learning rate approximately: 9.0e-04\n",
      "Epoch 9/20\n",
      "1563/1563 [==============================] - 3s 2ms/step - loss: 0.2863 - accuracy: 0.8944 - val_loss: 0.3386 - val_accuracy: 0.8768\n",
      "learning rate approximately: 1.0e-03\n",
      "Epoch 10/20\n",
      "1563/1563 [==============================] - 3s 2ms/step - loss: 0.2707 - accuracy: 0.8985 - val_loss: 0.3857 - val_accuracy: 0.8626\n",
      "learning rate approximately: 9.0e-04\n",
      "Epoch 11/20\n",
      "1563/1563 [==============================] - 3s 2ms/step - loss: 0.2541 - accuracy: 0.9044 - val_loss: 0.3381 - val_accuracy: 0.8741\n",
      "learning rate approximately: 8.0e-04\n",
      "Epoch 12/20\n",
      "1563/1563 [==============================] - 3s 2ms/step - loss: 0.2377 - accuracy: 0.9107 - val_loss: 0.3081 - val_accuracy: 0.8871\n",
      "learning rate approximately: 7.0e-04\n",
      "Epoch 13/20\n",
      "1563/1563 [==============================] - 3s 2ms/step - loss: 0.2218 - accuracy: 0.9161 - val_loss: 0.3037 - val_accuracy: 0.8887\n",
      "learning rate approximately: 6.0e-04\n",
      "Epoch 14/20\n",
      "1563/1563 [==============================] - 3s 2ms/step - loss: 0.2067 - accuracy: 0.9235 - val_loss: 0.2926 - val_accuracy: 0.8964\n",
      "learning rate approximately: 5.0e-04\n",
      "Epoch 15/20\n",
      "1563/1563 [==============================] - 3s 2ms/step - loss: 0.1943 - accuracy: 0.9284 - val_loss: 0.2951 - val_accuracy: 0.8947\n",
      "learning rate approximately: 4.0e-04\n",
      "Epoch 16/20\n",
      "1563/1563 [==============================] - 3s 2ms/step - loss: 0.1799 - accuracy: 0.9340 - val_loss: 0.2956 - val_accuracy: 0.8967\n",
      "learning rate approximately: 3.0e-04\n",
      "Epoch 17/20\n",
      "1563/1563 [==============================] - 3s 2ms/step - loss: 0.1683 - accuracy: 0.9387 - val_loss: 0.2886 - val_accuracy: 0.8967\n",
      "learning rate approximately: 2.0e-04\n",
      "Epoch 18/20\n",
      "1563/1563 [==============================] - 3s 2ms/step - loss: 0.1577 - accuracy: 0.9430 - val_loss: 0.2898 - val_accuracy: 0.8988\n",
      "learning rate approximately: 1.0e-04\n",
      "Epoch 19/20\n",
      "1563/1563 [==============================] - 3s 2ms/step - loss: 0.1498 - accuracy: 0.9471 - val_loss: 0.2894 - val_accuracy: 0.8982\n",
      "learning rate approximately: 5.1e-05\n",
      "Epoch 20/20\n",
      "1563/1563 [==============================] - 3s 2ms/step - loss: 0.1447 - accuracy: 0.9484 - val_loss: 0.2876 - val_accuracy: 0.8998\n"
     ]
    }
   ],
   "source": [
    "history = model.fit(x_train,y_train,validation_data = (x_val,y_val),\n",
    "                    epochs=n_epochs,batch_size = batch_size,callbacks=callbacks)"
   ]
  },
  {
   "cell_type": "code",
   "execution_count": 14,
   "metadata": {},
   "outputs": [
    {
     "data": {
      "image/png": "[encoded data removed]",
      "text/plain": [
       "<Figure size 432x288 with 1 Axes>"
      ]
     },
     "metadata": {},
     "output_type": "display_data"
    }
   ],
   "source": [
    "plt.plot(lr_scheduler.get_lr_record())\n",
    "plt.xlabel('iteration')\n",
    "plt.ylabel('learning rate')\n",
    "plt.show()"
   ]
  },
  {
   "cell_type": "code",
   "execution_count": 19,
   "metadata": {},
   "outputs": [
    {
     "name": "stdout",
     "output_type": "stream",
     "text": [
      "313/313 [==============================] - 0s 719us/step - loss: 0.3188 - accuracy: 0.8948\n",
      "Test loss: 0.31880778074264526\n",
      "Test accuracy: 0.8948000073432922\n"
     ]
    }
   ],
   "source": [
    "# Score trained model.\n",
    "scores = model.evaluate(x_test, y_test, verbose=1)\n",
    "print('Test loss:', scores[0])\n",
    "print('Test accuracy:', scores[1])"
   ]
  }
 ],
 "metadata": {
  "kernelspec": {
   "display_name": "Python 3",
   "language": "python",
   "name": "python3"
  },
  "language_info": {
   "codemirror_mode": {
    "name": "ipython",
    "version": 3
   },
   "file_extension": ".py",
   "mimetype": "text/x-python",
   "name": "python",
   "nbconvert_exporter": "python",
   "pygments_lexer": "ipython3",
   "version": "3.8.10"
  }
 },
 "nbformat": 4,
 "nbformat_minor": 4
}
