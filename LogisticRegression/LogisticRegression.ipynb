{
 "cells": [
  {
   "cell_type": "markdown",
   "metadata": {
    "id": "uFxP8HtgbnS0"
   },
   "source": [
    "# Logistic Regression for the Iris Dataset\n",
    "We will attempt to classify Iris flowers, which come in three types, _viz._ setosa, versicolour and virginica. We will use the petal length and width as predictors of flower type. In particular we will solve the binary classification problem of Virginica vs Setosa or Versicolour. The goal of the notebook is to train a Logistic Regression classifier, analyze its performance on test data, and visualize its decision boundaries."
   ]
  },
  {
   "cell_type": "code",
   "execution_count": null,
   "metadata": {
    "id": "f_rC2AaVbi3M"
   },
   "outputs": [],
   "source": [
    "import numpy as np\n",
    "import matplotlib.pyplot as plt\n",
    "from sklearn import datasets\n",
    "from sklearn.linear_model import LogisticRegression\n",
    "from sklearn.model_selection import train_test_split\n",
    "from sklearn.model_selection import cross_val_score\n",
    "from sklearn.metrics import accuracy_score\n",
    "import matplotlib as mpl"
   ]
  },
  {
   "cell_type": "code",
   "execution_count": null,
   "metadata": {
    "colab": {
     "base_uri": "https://localhost:8080/"
    },
    "id": "NalD0pB1i1T-",
    "outputId": "277f76d2-5c31-4b34-dd26-57ae36955257"
   },
   "outputs": [
    {
     "name": "stdout",
     "output_type": "stream",
     "text": [
      "['data', 'target', 'frame', 'target_names', 'DESCR', 'feature_names', 'filename', 'data_module']\n"
     ]
    }
   ],
   "source": [
    "iris = datasets.load_iris()\n",
    "print(list(iris.keys()))"
   ]
  },
  {
   "cell_type": "code",
   "execution_count": null,
   "metadata": {
    "colab": {
     "base_uri": "https://localhost:8080/"
    },
    "id": "b3a-Nlpqjqti",
    "outputId": "dcd9b406-2dc4-477e-de7e-6769a486db35"
   },
   "outputs": [
    {
     "name": "stdout",
     "output_type": "stream",
     "text": [
      ".. _iris_dataset:\n",
      "\n",
      "Iris plants dataset\n",
      "--------------------\n",
      "\n",
      "**Data Set Characteristics:**\n",
      "\n",
      "    :Number of Instances: 150 (50 in each of three classes)\n",
      "    :Number of Attributes: 4 numeric, predictive attributes and the class\n",
      "    :Attribute Information:\n",
      "        - sepal length in cm\n",
      "        - sepal width in cm\n",
      "        - petal length in cm\n",
      "        - petal width in cm\n",
      "        - class:\n",
      "                - Iris-Setosa\n",
      "                - Iris-Versicolour\n",
      "                - Iris-Virginica\n",
      "                \n",
      "    :Summary Statistics:\n",
      "\n",
      "    ============== ==== ==== ======= ===== ====================\n",
      "                    Min  Max   Mean    SD   Class Correlation\n",
      "    ============== ==== ==== ======= ===== ====================\n",
      "    sepal length:   4.3  7.9   5.84   0.83    0.7826\n",
      "    sepal width:    2.0  4.4   3.05   0.43   -0.4194\n",
      "    petal length:   1.0  6.9   3.76   1.76    0.9490  (high!)\n",
      "    petal width:    0.1  2.5   1.20   0.76    0.9565  (high!)\n",
      "    ============== ==== ==== ======= ===== ====================\n",
      "\n",
      "    :Missing Attribute Values: None\n",
      "    :Class Distribution: 33.3% for each of 3 classes.\n",
      "    :Creator: R.A. Fisher\n",
      "    :Donor: Michael Marshall (MARSHALL%PLU@io.arc.nasa.gov)\n",
      "    :Date: July, 1988\n",
      "\n",
      "The famous Iris database, first used by Sir R.A. Fisher. The dataset is taken\n",
      "from Fisher's paper. Note that it's the same as in R, but not as in the UCI\n",
      "Machine Learning Repository, which has two wrong data points.\n",
      "\n",
      "This is perhaps the best known database to be found in the\n",
      "pattern recognition literature.  Fisher's paper is a classic in the field and\n",
      "is referenced frequently to this day.  (See Duda & Hart, for example.)  The\n",
      "data set contains 3 classes of 50 instances each, where each class refers to a\n",
      "type of iris plant.  One class is linearly separable from the other 2; the\n",
      "latter are NOT linearly separable from each other.\n",
      "\n",
      ".. topic:: References\n",
      "\n",
      "   - Fisher, R.A. \"The use of multiple measurements in taxonomic problems\"\n",
      "     Annual Eugenics, 7, Part II, 179-188 (1936); also in \"Contributions to\n",
      "     Mathematical Statistics\" (John Wiley, NY, 1950).\n",
      "   - Duda, R.O., & Hart, P.E. (1973) Pattern Classification and Scene Analysis.\n",
      "     (Q327.D83) John Wiley & Sons.  ISBN 0-471-22361-1.  See page 218.\n",
      "   - Dasarathy, B.V. (1980) \"Nosing Around the Neighborhood: A New System\n",
      "     Structure and Classification Rule for Recognition in Partially Exposed\n",
      "     Environments\".  IEEE Transactions on Pattern Analysis and Machine\n",
      "     Intelligence, Vol. PAMI-2, No. 1, 67-71.\n",
      "   - Gates, G.W. (1972) \"The Reduced Nearest Neighbor Rule\".  IEEE Transactions\n",
      "     on Information Theory, May 1972, 431-433.\n",
      "   - See also: 1988 MLC Proceedings, 54-64.  Cheeseman et al\"s AUTOCLASS II\n",
      "     conceptual clustering system finds 3 classes in the data.\n",
      "   - Many, many more ...\n"
     ]
    }
   ],
   "source": [
    "print(iris['DESCR'])"
   ]
  },
  {
   "cell_type": "code",
   "execution_count": null,
   "metadata": {
    "colab": {
     "base_uri": "https://localhost:8080/"
    },
    "id": "tBswOCZcjXEr",
    "outputId": "25c9d85d-44d1-4aa4-d7d8-49231dc7481c"
   },
   "outputs": [
    {
     "name": "stdout",
     "output_type": "stream",
     "text": [
      "feature names:  ['sepal length (cm)', 'sepal width (cm)', 'petal length (cm)', 'petal width (cm)']\n",
      "target names:  ['setosa' 'versicolor' 'virginica']\n",
      "target labels:  [0 1 2]\n"
     ]
    }
   ],
   "source": [
    "print('feature names: ', iris['feature_names']) \n",
    "print('target names: ', iris['target_names'])\n",
    "print('target labels: ',np.unique(iris['target']))"
   ]
  },
  {
   "cell_type": "code",
   "execution_count": null,
   "metadata": {
    "id": "nsfsXkAnSdqG"
   },
   "outputs": [],
   "source": [
    "X_p = iris['data'][:,2:] # 3: yields an (m,1) array instead of (m,)\n",
    "y_p = iris['target'] # 1 for virginica 0 for others\n",
    "\n",
    "X_train, _, y_train, _ = train_test_split(X_p,y_p,test_size=0.3)"
   ]
  },
  {
   "cell_type": "code",
   "execution_count": null,
   "metadata": {
    "colab": {
     "base_uri": "https://localhost:8080/",
     "height": 513
    },
    "id": "Uv378QU3Sqov",
    "outputId": "8d2ea2b6-3a3f-48af-efff-8f2b4810ac74"
   },
   "outputs": [
    {
     "data": {
      "image/png": "[encoded data removed]",
      "text/plain": [
       "<Figure size 1152x576 with 1 Axes>"
      ]
     },
     "metadata": {
      "needs_background": "light"
     },
     "output_type": "display_data"
    }
   ],
   "source": [
    "plt.figure(figsize=(16,8))\n",
    "color = ['red','blue','magenta']\n",
    "species = ['setosa','versicolor','virginica']\n",
    "for iris in range(3):\n",
    "    mask = y_train == iris\n",
    "    plt.scatter(X_train[mask,0],X_train[mask,1],c=color[iris],label=species[iris])\n",
    "plt.title('Point Cloud for Iris Data by petal length and width')\n",
    "plt.xlabel('petal length')\n",
    "plt.ylabel('petal width')\n",
    "plt.legend(loc='best')\n",
    "plt.show()"
   ]
  },
  {
   "cell_type": "markdown",
   "metadata": {
    "id": "3PsJWoFpm87A"
   },
   "source": [
    "# Load and process data for training and testing\n",
    "\n",
    "We predict the class probabilities for a given iris flower to be 'virginica' or 'not virginica' depending on the petal width. "
   ]
  },
  {
   "cell_type": "code",
   "execution_count": null,
   "metadata": {
    "colab": {
     "base_uri": "https://localhost:8080/"
    },
    "id": "7zoiI5gJjd3e",
    "outputId": "e98597b9-b8d0-47d5-ac21-cd7f2ff6d557"
   },
   "outputs": [
    {
     "name": "stdout",
     "output_type": "stream",
     "text": [
      "(105, 1) (45, 1)\n"
     ]
    }
   ],
   "source": [
    "iris = datasets.load_iris()\n",
    "X = iris['data'][:,3:] # 3: yields an (m,1) array instead of (m,)\n",
    "y = (iris['target']==2).astype(int) # 1 for virginica 0 for others\n",
    "\n",
    "X_train, X_test, y_train, y_test = train_test_split(X,y,test_size=0.3)\n",
    "print(X_train.shape, X_test.shape)"
   ]
  },
  {
   "cell_type": "markdown",
   "metadata": {
    "id": "oBLUuzV1uPZP"
   },
   "source": [
    "# Train and Evaluate model\n",
    "\n",
    "We will use <tt>sklearn</tt>'s <tt>LogisticRegression</tt> classifier, documentation [here](https://scikit-learn.org/stable/modules/generated/sklearn.linear_model.LogisticRegression.html)."
   ]
  },
  {
   "cell_type": "code",
   "execution_count": null,
   "metadata": {
    "colab": {
     "base_uri": "https://localhost:8080/"
    },
    "id": "Lb1JP1Bqjxms",
    "outputId": "1f373aa7-3f5e-4834-afb8-059fcba4b5c4"
   },
   "outputs": [
    {
     "data": {
      "text/plain": [
       "LogisticRegression()"
      ]
     },
     "execution_count": 72,
     "metadata": {},
     "output_type": "execute_result"
    }
   ],
   "source": [
    "log_reg = LogisticRegression()\n",
    "log_reg.fit(X_train,y_train)"
   ]
  },
  {
   "cell_type": "code",
   "execution_count": null,
   "metadata": {
    "colab": {
     "base_uri": "https://localhost:8080/"
    },
    "id": "46wKyP1LpBve",
    "outputId": "bf4dead7-8981-481a-e3e6-479114b8c9ae"
   },
   "outputs": [
    {
     "name": "stdout",
     "output_type": "stream",
     "text": [
      "accuracy reached on train set:  0.9523809523809523\n",
      "accuracies obtained on 3-fold cross validation:  [0.91428571 0.94285714 0.97142857]\n",
      "accuracy reached on test set:  0.9777777777777777\n"
     ]
    }
   ],
   "source": [
    "y_pred = log_reg.predict(X_train)\n",
    "print('accuracy reached on train set: ',accuracy_score(y_train,y_pred))\n",
    "\n",
    "cvscore = cross_val_score(log_reg,X_train,y_train,cv=3, scoring='accuracy')\n",
    "\n",
    "print('accuracies obtained on 3-fold cross validation: ', cvscore)\n",
    "\n",
    "y_pred = log_reg.predict(X_test)\n",
    "print('accuracy reached on test set: ',accuracy_score(y_test,y_pred))"
   ]
  },
  {
   "cell_type": "markdown",
   "metadata": {
    "id": "kRKxkwynvKFM"
   },
   "source": [
    "# Visualize Decision Boundary\n",
    "\n",
    "We can visualize how the probability of the model predicting 0 or 1 (not virginica or virginica) changes as we vary the petal length from 0.1 to 2.5\n",
    "(the minimum and maximum values allowed in the dataset)."
   ]
  },
  {
   "cell_type": "code",
   "execution_count": null,
   "metadata": {
    "id": "Z6xLfQflpaMp"
   },
   "outputs": [],
   "source": [
    "petal_width = np.linspace(0,3,1000).reshape(-1,1)\n",
    "\n",
    "probas = log_reg.predict_proba(petal_width)\n",
    "\n",
    "p_not_irv = probas[:,0]\n",
    "p_irv = probas[:,1]"
   ]
  },
  {
   "cell_type": "markdown",
   "metadata": {
    "id": "Kd9dhvkI0fTP"
   },
   "source": [
    "## code to generate plot"
   ]
  },
  {
   "cell_type": "code",
   "execution_count": null,
   "metadata": {
    "id": "hGJ60ZIkz6Xf"
   },
   "outputs": [],
   "source": [
    "# locate decision boundary (by default, p = 0.5)\n",
    "\n",
    "bdry_idx = np.argmin(np.abs(p_irv-0.5)) #where is p_irv closest to 0.5\n",
    "dec_bdry = petal_width[bdry_idx]"
   ]
  },
  {
   "cell_type": "code",
   "execution_count": null,
   "metadata": {
    "id": "4Yt1b7mPx5rn"
   },
   "outputs": [],
   "source": [
    "# process test data for visualization as scatter points\n",
    "plotx = X_test[:,0]\n",
    "ploty = np.zeros(plotx.shape)\n",
    "colors = np.array(['r' if y==0 else 'b' for y in y_test])\n",
    "# diamonds for those predicted virginica, squares otherwise\n",
    "markers = np.array(['s' if y<0.5 else '+' for y in y_pred])\n",
    "\n",
    "unique_markers = np.unique(markers).astype('U')"
   ]
  },
  {
   "cell_type": "markdown",
   "metadata": {
    "id": "dns6OVW80jLX"
   },
   "source": [
    "## plot results and decision boundary"
   ]
  },
  {
   "cell_type": "code",
   "execution_count": null,
   "metadata": {
    "colab": {
     "base_uri": "https://localhost:8080/",
     "height": 532
    },
    "id": "5iz-vTmKqSdb",
    "outputId": "2ba30b7e-b947-4c13-9fc4-b03eac483535"
   },
   "outputs": [
    {
     "data": {
      "image/png": "[encoded data removed]",
      "text/plain": [
       "<Figure size 1152x576 with 1 Axes>"
      ]
     },
     "metadata": {
      "needs_background": "light"
     },
     "output_type": "display_data"
    },
    {
     "name": "stdout",
     "output_type": "stream",
     "text": [
      "red squares and blue plus are correct classifications\n",
      "red plus and blue squares are incorrect\n"
     ]
    }
   ],
   "source": [
    "plt.figure(figsize=(16,8))\n",
    "plt.plot(petal_width,p_not_irv,color='red',label='setosa, versicolor')\n",
    "plt.plot(petal_width,p_irv,color='blue',label='virginica')\n",
    "plt.axvline(x = dec_bdry, color = 'k',linestyle=':',label ='decision boundary')\n",
    "for m in unique_markers: #markers cannot be a list so we plot case by case\n",
    "  mask = markers == m\n",
    "  plt.scatter(plotx[mask],ploty[mask],c=colors[mask],marker=m)\n",
    "plt.legend(loc='best')\n",
    "plt.xlabel('petal width')\n",
    "plt.ylabel('probability to be iris virginica')\n",
    "plt.grid('both')\n",
    "plt.show()\n",
    "print('red squares and blue plus are correct classifications')\n",
    "print('red plus and blue squares are incorrect')"
   ]
  },
  {
   "cell_type": "markdown",
   "metadata": {
    "id": "rJC9sE912grD"
   },
   "source": [
    "# Logistic Regression using petal width and petal length"
   ]
  },
  {
   "cell_type": "code",
   "execution_count": null,
   "metadata": {
    "colab": {
     "base_uri": "https://localhost:8080/"
    },
    "id": "beptCxYyzdPF",
    "outputId": "a862c64c-b695-4bb7-a673-5185933f1820"
   },
   "outputs": [
    {
     "name": "stdout",
     "output_type": "stream",
     "text": [
      "(105, 2) (45, 2)\n"
     ]
    }
   ],
   "source": [
    "X = iris['data'][:,2:] # 3: yields an (m,1) array instead of (m,)\n",
    "y = (iris['target']==2).astype(int) # 1 for virginica 0 for others\n",
    "\n",
    "X_train, X_test, y_train, y_test = train_test_split(X,y,test_size=0.3)\n",
    "print(X_train.shape, X_test.shape)"
   ]
  },
  {
   "cell_type": "code",
   "execution_count": null,
   "metadata": {
    "colab": {
     "base_uri": "https://localhost:8080/"
    },
    "id": "7y7zDzjNzeJa",
    "outputId": "dfc64c6a-5536-476b-fcb2-a24d5ba1d114"
   },
   "outputs": [
    {
     "data": {
      "text/plain": [
       "LogisticRegression()"
      ]
     },
     "execution_count": 79,
     "metadata": {},
     "output_type": "execute_result"
    }
   ],
   "source": [
    "log_reg = LogisticRegression()\n",
    "log_reg.fit(X_train,y_train)"
   ]
  },
  {
   "cell_type": "code",
   "execution_count": null,
   "metadata": {
    "colab": {
     "base_uri": "https://localhost:8080/"
    },
    "id": "MbCP4NCR24Zp",
    "outputId": "3b32858a-95ee-44dc-a368-9cb381115427"
   },
   "outputs": [
    {
     "name": "stdout",
     "output_type": "stream",
     "text": [
      "accuracy reached on train set:  0.9523809523809523\n",
      "accuracies obtained on 3-fold cross validation:  [1.         0.91428571 0.91428571]\n",
      "accuracy reached on test set:  1.0\n"
     ]
    }
   ],
   "source": [
    "y_pred = log_reg.predict(X_train)\n",
    "print('accuracy reached on train set: ',accuracy_score(y_train,y_pred))\n",
    "\n",
    "cvscore = cross_val_score(log_reg,X_train,y_train,cv=3, scoring='accuracy')\n",
    "\n",
    "print('accuracies obtained on 3-fold cross validation: ', cvscore)\n",
    "\n",
    "y_pred = log_reg.predict(X_test)\n",
    "print('accuracy reached on test set: ',accuracy_score(y_test,y_pred))"
   ]
  },
  {
   "cell_type": "code",
   "execution_count": null,
   "metadata": {
    "id": "phn9uFlC5v-D"
   },
   "outputs": [],
   "source": [
    "gridx = np.linspace(0,7,700)\n",
    "gridy = np.linspace(0,3,300)\n",
    "petal_x, petal_y = np.meshgrid(gridx,gridy)"
   ]
  },
  {
   "cell_type": "code",
   "execution_count": null,
   "metadata": {
    "id": "nyFPPWT028gd"
   },
   "outputs": [],
   "source": [
    "grid_points = np.c_[petal_x.ravel(),petal_y.ravel()]\n",
    "p_irv = log_reg.predict_proba(grid_points)[:,1]\n",
    "\n",
    "colors = np.array(['r' if y==0 else 'b' for y in y_test])\n",
    "# diamonds for those predicted virginica, squares otherwise\n",
    "markers = np.array(['s' if y<0.5 else '+' for y in y_pred])\n",
    "\n",
    "unique_markers = np.unique(markers).astype('U')"
   ]
  },
  {
   "cell_type": "code",
   "execution_count": null,
   "metadata": {
    "id": "e974gaSR6_ZQ"
   },
   "outputs": [],
   "source": [
    "prob_grid = p_irv.reshape(petal_x.shape)\n",
    "pred_grid = (prob_grid>=0.5).astype(int)"
   ]
  },
  {
   "cell_type": "code",
   "execution_count": null,
   "metadata": {
    "colab": {
     "base_uri": "https://localhost:8080/",
     "height": 513
    },
    "id": "YNRhyEFQ47Q9",
    "outputId": "9ec7581d-6c32-414f-f863-6c18c67ac74a"
   },
   "outputs": [
    {
     "data": {
      "image/png": "[encoded data removed]",
      "text/plain": [
       "<Figure size 1152x576 with 1 Axes>"
      ]
     },
     "metadata": {
      "needs_background": "light"
     },
     "output_type": "display_data"
    }
   ],
   "source": [
    "plt.figure(figsize=(16,8))\n",
    "plt.contourf(gridx,gridy,prob_grid,alpha=0.3)\n",
    "plt.contourf(gridx,gridy,pred_grid,alpha=0.4)\n",
    "for m in unique_markers: #markers cannot be a list so we plot case by case\n",
    "    mask = markers == m\n",
    "    plt.scatter(X_test[mask,0],X_test[mask,1],c=colors[mask],marker=m)\n",
    "#plt.scatter(X_test[:,0],X_test[:,1],c=colors)\n",
    "plt.title('Iris Data with learnt decision boundary and probability contours')\n",
    "plt.xlabel('petal length')\n",
    "plt.ylabel('petal width')\n",
    "plt.show()"
   ]
  },
  {
   "cell_type": "markdown",
   "metadata": {
    "id": "LWEvEusb_cNI"
   },
   "source": [
    "The above graph visualizes the decision boundary, located at the threshold probability of 0.5, as learnt by the Logistic Regression classifier.\n",
    "\n",
    "More detailed contour plots of the probability are also visible.\n",
    "\n",
    "red: not virginica\n",
    "\n",
    "square: predicted not virginica\n",
    "\n",
    "blue: virginica\n",
    "\n",
    "plus: predicted virginica\n",
    "\n",
    "correct predictions are red squares and blue pluses\n",
    "red plus and blue squares are incorrect."
   ]
  },
  {
   "cell_type": "code",
   "execution_count": null,
   "metadata": {
    "id": "XOA0qlvZOXaU"
   },
   "outputs": [],
   "source": []
  }
 ],
 "metadata": {
  "colab": {
   "collapsed_sections": [],
   "name": "LogisticRegression.ipynb",
   "provenance": []
  },
  "kernelspec": {
   "display_name": "Python 3",
   "language": "python",
   "name": "python3"
  },
  "language_info": {
   "codemirror_mode": {
    "name": "ipython",
    "version": 3
   },
   "file_extension": ".py",
   "mimetype": "text/x-python",
   "name": "python",
   "nbconvert_exporter": "python",
   "pygments_lexer": "ipython3",
   "version": "3.8.10"
  }
 },
 "nbformat": 4,
 "nbformat_minor": 4
}
